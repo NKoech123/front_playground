{
 "cells": [
  {
   "cell_type": "code",
   "execution_count": null,
   "metadata": {},
   "outputs": [],
   "source": [
    "'''\n",
    "What's a decorator? \n",
    " A : A decorator is a design patter in python that allows a user to add a new functionality to an \n",
    "     existing object without modifying its structure. Decorators are usually called before the\n",
    "     definition of a function you want to decorate.\n",
    "Why Decorators?\n",
    "    1. Decorators are an elegant way altering or extending a function's functionality without\n",
    "       changing the code \n",
    "    2. Decorators allow us to add more functionalities in a python function. It's called metaprogramming because one\n",
    "       part of the program adds something to another part of the program at compile time.\n",
    "\n",
    "Resource: https://blog.devgenius.io/fundamental-of-python-decorators-and-importance-of-args-kwargs-d36288c2058\n",
    "'''"
   ]
  },
  {
   "cell_type": "code",
   "execution_count": null,
   "metadata": {},
   "outputs": [],
   "source": [
    "def add_tuples(tuple_arr):\n",
    "    res= [a+b for a,b in tuple_arr]\n",
    "    return\n"
   ]
  },
  {
   "cell_type": "code",
   "execution_count": null,
   "metadata": {},
   "outputs": [],
   "source": [
    "\n",
    "tuple_arr =[(1,2),(2,9),(4,7)]\n",
    "add_tuples(tuple_arr)"
   ]
  },
  {
   "cell_type": "code",
   "execution_count": 5,
   "metadata": {},
   "outputs": [
    {
     "data": {
      "text/plain": [
       "[3, 11, 11]"
      ]
     },
     "execution_count": 5,
     "metadata": {},
     "output_type": "execute_result"
    }
   ],
   "source": [
    "# def add_together(a,b):\n",
    "#     return a+b\n",
    "\n",
    "def decorator_list(fnc):\n",
    "    def inner(list_of_tuples):\n",
    "        return [fnc(val[0],val[1]) for val in list_of_tuples ]\n",
    "    return inner\n",
    "\n",
    "@decorator_list\n",
    "def add_together(a,b):\n",
    "    return a+b\n",
    "\n",
    "print(add_together([(1,2),(2,9),(4,7)]))\n",
    "    "
   ]
  }
 ],
 "metadata": {
  "interpreter": {
   "hash": "949777d72b0d2535278d3dc13498b2535136f6dfe0678499012e853ee9abcab1"
  },
  "kernelspec": {
   "display_name": "Python 3.9.5 64-bit",
   "language": "python",
   "name": "python3"
  },
  "language_info": {
   "codemirror_mode": {
    "name": "ipython",
    "version": 3
   },
   "file_extension": ".py",
   "mimetype": "text/x-python",
   "name": "python",
   "nbconvert_exporter": "python",
   "pygments_lexer": "ipython3",
   "version": "3.9.5"
  },
  "orig_nbformat": 4
 },
 "nbformat": 4,
 "nbformat_minor": 2
}
